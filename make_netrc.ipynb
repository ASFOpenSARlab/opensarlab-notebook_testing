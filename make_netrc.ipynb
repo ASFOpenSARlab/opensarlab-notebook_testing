{
 "cells": [
  {
   "cell_type": "code",
   "execution_count": null,
   "metadata": {},
   "outputs": [],
   "source": [
    "from getpass import getpass\n",
    "\n",
    "username = input(\"Enter your Earthdata username: \")\n",
    "password = getpass(\"Enter your Earthdata password: \")\n",
    "netrc_path = '/home/jovyan/.netrc'\n",
    "\n",
    "def write_dot_netrc(path, username, password):\n",
    "    with open(netrc_path, 'w+') as netrc:\n",
    "        netrc.write(f'machine urs.earthdata.nasa.gov login {username} password {password}')\n",
    "        \n",
    "        \n",
    "write_dot_netrc(netrc_path, username, password)"
   ]
  },
  {
   "cell_type": "code",
   "execution_count": null,
   "metadata": {},
   "outputs": [],
   "source": []
  }
 ],
 "metadata": {
  "kernelspec": {
   "display_name": "base",
   "language": "python",
   "name": "python3"
  },
  "language_info": {
   "codemirror_mode": {
    "name": "ipython",
    "version": 3
   },
   "file_extension": ".py",
   "mimetype": "text/x-python",
   "name": "python",
   "nbconvert_exporter": "python",
   "pygments_lexer": "ipython3",
   "version": "3.9.7"
  }
 },
 "nbformat": 4,
 "nbformat_minor": 4
}
